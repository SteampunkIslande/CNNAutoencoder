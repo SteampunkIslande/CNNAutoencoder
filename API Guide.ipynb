{
 "cells": [
  {
   "cell_type": "markdown",
   "metadata": {},
   "source": [
    "# Welcome to CNN Autoencoder denoising app notebook !\n",
    "\n",
    "This notebook's goal is to take you through the main features provided by the denoiser's API.\n",
    "\n",
    "## Quick start\n",
    "\n",
    "If all you want to do is to use pretrained weights"
   ]
  },
  {
   "cell_type": "markdown",
   "metadata": {},
   "source": [
    "## Training the model\n",
    "\n",
    "If you want to train the model from scratch, then please run the cells below."
   ]
  },
  {
   "cell_type": "markdown",
   "metadata": {},
   "source": [
    "### Imports"
   ]
  },
  {
   "cell_type": "code",
   "execution_count": 2,
   "metadata": {},
   "outputs": [],
   "source": [
    "from supported_optimizers import optimizers # Optimizers is a dict with optimizer factories (get them by their name)\n",
    "from train_model import trainModel\n",
    "from unet import UNet\n",
    "\n",
    "from torch.utils.data import Dataset\n",
    "from unet_dataset import LocalFilesUnetDataset\n"
   ]
  },
  {
   "cell_type": "markdown",
   "metadata": {},
   "source": [
    "### Arguments definition"
   ]
  },
  {
   "cell_type": "code",
   "execution_count": null,
   "metadata": {},
   "outputs": [],
   "source": [
    "train_list = \"./dataset/Sony/Sony_train_filtered.txt\"\n",
    "valid_list = \"./dataset/Sony/Sony_val_list.txt\"\n",
    "\n",
    "\n",
    "trainModelArgs={}\n",
    "\n",
    "trainModelArgs[\"batch_size\"] = 4\n",
    "trainModelArgs[\"epochs\"] = 50\n",
    "trainModelArgs[\"log_file_name\"] = \"result.csv\"\n",
    "trainModelArgs[\"save_frequency\"] = 10\n",
    "trainModelArgs[\"run_name\"] = \"trainWhatWeCan\"\n",
    "\n",
    "trainModelArgs[\"optimizer_factory\"] = lambda params: torch.optim.Adam(params, lr=1e-4)\n",
    "\n",
    "model = trainModel(**trainModelArgs)\n",
    "\n",
    "model_name = \"results/trainedModel.pth\"\n",
    "\n",
    "model.cpu()  # Before ever saving model to file, make sure it has host memory mapping (won't depend on harware)\n",
    "torch.save(model.state_dict(), model_name)\n"
   ]
  }
 ],
 "metadata": {
  "kernelspec": {
   "display_name": "Python 3",
   "language": "python",
   "name": "python3"
  },
  "language_info": {
   "codemirror_mode": {
    "name": "ipython",
    "version": 3
   },
   "file_extension": ".py",
   "mimetype": "text/x-python",
   "name": "python",
   "nbconvert_exporter": "python",
   "pygments_lexer": "ipython3",
   "version": "3.8.6"
  }
 },
 "nbformat": 4,
 "nbformat_minor": 4
}
